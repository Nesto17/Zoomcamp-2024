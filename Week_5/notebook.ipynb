{
 "cells": [
  {
   "cell_type": "markdown",
   "id": "5c6b364b",
   "metadata": {},
   "source": [
    "## Instantiate PySpark"
   ]
  },
  {
   "cell_type": "code",
   "execution_count": 13,
   "id": "f50b1a4c",
   "metadata": {},
   "outputs": [],
   "source": [
    "import pyspark\n",
    "from pyspark.sql import SparkSession"
   ]
  },
  {
   "cell_type": "code",
   "execution_count": 14,
   "id": "7a09a845",
   "metadata": {},
   "outputs": [
    {
     "data": {
      "text/plain": [
       "'3.5.1'"
      ]
     },
     "execution_count": 14,
     "metadata": {},
     "output_type": "execute_result"
    }
   ],
   "source": [
    "pyspark.__version__"
   ]
  },
  {
   "cell_type": "code",
   "execution_count": 15,
   "id": "84dfb95c",
   "metadata": {
    "scrolled": true
   },
   "outputs": [
    {
     "data": {
      "text/plain": [
       "'/Users/ernestsalim/Devs/Zoomcamp/Week_5/spark-3.5.1-bin-hadoop3/python/pyspark/__init__.py'"
      ]
     },
     "execution_count": 15,
     "metadata": {},
     "output_type": "execute_result"
    }
   ],
   "source": [
    "pyspark.__file__"
   ]
  },
  {
   "cell_type": "code",
   "execution_count": 18,
   "id": "12a0f9ca",
   "metadata": {},
   "outputs": [],
   "source": [
    "spark = SparkSession.builder \\\n",
    "    .master(\"local[*]\") \\\n",
    "    .appName(\"test\") \\\n",
    "    .getOrCreate()"
   ]
  },
  {
   "cell_type": "code",
   "execution_count": 30,
   "id": "360f8d51",
   "metadata": {},
   "outputs": [
    {
     "data": {
      "text/plain": [
       "'3.5.1'"
      ]
     },
     "execution_count": 30,
     "metadata": {},
     "output_type": "execute_result"
    }
   ],
   "source": [
    "spark.version"
   ]
  },
  {
   "cell_type": "code",
   "execution_count": 27,
   "id": "685b6357",
   "metadata": {},
   "outputs": [
    {
     "name": "stdout",
     "output_type": "stream",
     "text": [
      " 1897494 fhv_tripdata_2019-10.csv\r\n"
     ]
    }
   ],
   "source": [
    "!wc -l fhv_tripdata_2019-10.csv"
   ]
  },
  {
   "cell_type": "code",
   "execution_count": 28,
   "id": "f8a238f3",
   "metadata": {},
   "outputs": [],
   "source": [
    "df = spark.read \\\n",
    "    .option(\"header\", \"true\") \\\n",
    "    .csv(\"./fhv_tripdata_2019-10.csv\")"
   ]
  },
  {
   "cell_type": "code",
   "execution_count": 31,
   "id": "9e71e62a",
   "metadata": {},
   "outputs": [
    {
     "data": {
      "text/plain": [
       "[Row(dispatching_base_num='B00009', pickup_datetime='2019-10-01 00:23:00', dropOff_datetime='2019-10-01 00:35:00', PUlocationID='264', DOlocationID='264', SR_Flag=None, Affiliated_base_number='B00009'),\n",
       " Row(dispatching_base_num='B00013', pickup_datetime='2019-10-01 00:11:29', dropOff_datetime='2019-10-01 00:13:22', PUlocationID='264', DOlocationID='264', SR_Flag=None, Affiliated_base_number='B00013'),\n",
       " Row(dispatching_base_num='B00014', pickup_datetime='2019-10-01 00:11:43', dropOff_datetime='2019-10-01 00:37:20', PUlocationID='264', DOlocationID='264', SR_Flag=None, Affiliated_base_number='B00014'),\n",
       " Row(dispatching_base_num='B00014', pickup_datetime='2019-10-01 00:56:29', dropOff_datetime='2019-10-01 00:57:47', PUlocationID='264', DOlocationID='264', SR_Flag=None, Affiliated_base_number='B00014'),\n",
       " Row(dispatching_base_num='B00014', pickup_datetime='2019-10-01 00:23:09', dropOff_datetime='2019-10-01 00:28:27', PUlocationID='264', DOlocationID='264', SR_Flag=None, Affiliated_base_number='B00014')]"
      ]
     },
     "execution_count": 31,
     "metadata": {},
     "output_type": "execute_result"
    }
   ],
   "source": [
    "df.head(5)"
   ]
  },
  {
   "cell_type": "code",
   "execution_count": 32,
   "id": "547a3b22",
   "metadata": {
    "scrolled": true
   },
   "outputs": [
    {
     "data": {
      "text/plain": [
       "StructType([StructField('dispatching_base_num', StringType(), True), StructField('pickup_datetime', StringType(), True), StructField('dropOff_datetime', StringType(), True), StructField('PUlocationID', StringType(), True), StructField('DOlocationID', StringType(), True), StructField('SR_Flag', StringType(), True), StructField('Affiliated_base_number', StringType(), True)])"
      ]
     },
     "execution_count": 32,
     "metadata": {},
     "output_type": "execute_result"
    }
   ],
   "source": [
    "df.schema"
   ]
  },
  {
   "cell_type": "markdown",
   "id": "3c64191c",
   "metadata": {},
   "source": [
    "## Defining Schema"
   ]
  },
  {
   "cell_type": "code",
   "execution_count": 35,
   "id": "034a437c",
   "metadata": {},
   "outputs": [],
   "source": [
    "!head -n 1001 fhv_tripdata_2019-10.csv > head.csv"
   ]
  },
  {
   "cell_type": "code",
   "execution_count": 37,
   "id": "1bbbac72",
   "metadata": {},
   "outputs": [
    {
     "name": "stdout",
     "output_type": "stream",
     "text": [
      "    1001 head.csv\r\n"
     ]
    }
   ],
   "source": [
    "!wc -l head.csv"
   ]
  },
  {
   "cell_type": "code",
   "execution_count": 38,
   "id": "888aff5f",
   "metadata": {},
   "outputs": [],
   "source": [
    "import pandas as pd"
   ]
  },
  {
   "cell_type": "code",
   "execution_count": 40,
   "id": "b955c67d",
   "metadata": {},
   "outputs": [],
   "source": [
    "df_pd = pd.read_csv('head.csv')"
   ]
  },
  {
   "cell_type": "code",
   "execution_count": 41,
   "id": "105a0a9c",
   "metadata": {},
   "outputs": [
    {
     "data": {
      "text/plain": [
       "dispatching_base_num       object\n",
       "pickup_datetime            object\n",
       "dropOff_datetime           object\n",
       "PUlocationID              float64\n",
       "DOlocationID              float64\n",
       "SR_Flag                   float64\n",
       "Affiliated_base_number     object\n",
       "dtype: object"
      ]
     },
     "execution_count": 41,
     "metadata": {},
     "output_type": "execute_result"
    }
   ],
   "source": [
    "df_pd.dtypes"
   ]
  },
  {
   "cell_type": "code",
   "execution_count": 43,
   "id": "a04b3fe4",
   "metadata": {
    "scrolled": true
   },
   "outputs": [
    {
     "data": {
      "text/plain": [
       "StructType([StructField('dispatching_base_num', StringType(), True), StructField('pickup_datetime', StringType(), True), StructField('dropOff_datetime', StringType(), True), StructField('PUlocationID', DoubleType(), True), StructField('DOlocationID', DoubleType(), True), StructField('SR_Flag', DoubleType(), True), StructField('Affiliated_base_number', StringType(), True)])"
      ]
     },
     "execution_count": 43,
     "metadata": {},
     "output_type": "execute_result"
    }
   ],
   "source": [
    "spark.createDataFrame(df_pd).schema"
   ]
  },
  {
   "cell_type": "code",
   "execution_count": 44,
   "id": "101ea30d",
   "metadata": {},
   "outputs": [],
   "source": [
    "from pyspark.sql import types"
   ]
  },
  {
   "cell_type": "code",
   "execution_count": 45,
   "id": "336f785d",
   "metadata": {},
   "outputs": [],
   "source": [
    "schema = types.StructType([\n",
    "    types.StructField('dispatching_base_num', types.StringType(), True),\n",
    "    types.StructField('pickup_datetime', types.TimestampType(), True),\n",
    "    types.StructField('dropoff_datetime', types.TimestampType(), True),\n",
    "    types.StructField('PUlocationID', types.IntegerType(), True),\n",
    "    types.StructField('DOlocationID', types.IntegerType(), True),\n",
    "    types.StructField('SR_Flag', types.StringType(), True),\n",
    "    types.StructField('Affiliated_base_number', types.StringType(), True)\n",
    "])"
   ]
  },
  {
   "cell_type": "code",
   "execution_count": 52,
   "id": "c6c87693",
   "metadata": {},
   "outputs": [],
   "source": [
    "df = spark.read \\\n",
    "    .option(\"header\", \"true\") \\\n",
    "    .schema(schema) \\\n",
    "    .csv(\"./fhv_tripdata_2019-10.csv\")"
   ]
  },
  {
   "cell_type": "code",
   "execution_count": 53,
   "id": "354cecf7",
   "metadata": {},
   "outputs": [
    {
     "data": {
      "text/plain": [
       "[Row(dispatching_base_num='B00009', pickup_datetime=datetime.datetime(2019, 10, 1, 0, 23), dropoff_datetime=datetime.datetime(2019, 10, 1, 0, 35), PUlocationID=264, DOlocationID=264, SR_Flag=None, Affiliated_base_number='B00009'),\n",
       " Row(dispatching_base_num='B00013', pickup_datetime=datetime.datetime(2019, 10, 1, 0, 11, 29), dropoff_datetime=datetime.datetime(2019, 10, 1, 0, 13, 22), PUlocationID=264, DOlocationID=264, SR_Flag=None, Affiliated_base_number='B00013'),\n",
       " Row(dispatching_base_num='B00014', pickup_datetime=datetime.datetime(2019, 10, 1, 0, 11, 43), dropoff_datetime=datetime.datetime(2019, 10, 1, 0, 37, 20), PUlocationID=264, DOlocationID=264, SR_Flag=None, Affiliated_base_number='B00014'),\n",
       " Row(dispatching_base_num='B00014', pickup_datetime=datetime.datetime(2019, 10, 1, 0, 56, 29), dropoff_datetime=datetime.datetime(2019, 10, 1, 0, 57, 47), PUlocationID=264, DOlocationID=264, SR_Flag=None, Affiliated_base_number='B00014'),\n",
       " Row(dispatching_base_num='B00014', pickup_datetime=datetime.datetime(2019, 10, 1, 0, 23, 9), dropoff_datetime=datetime.datetime(2019, 10, 1, 0, 28, 27), PUlocationID=264, DOlocationID=264, SR_Flag=None, Affiliated_base_number='B00014')]"
      ]
     },
     "execution_count": 53,
     "metadata": {},
     "output_type": "execute_result"
    }
   ],
   "source": [
    "df.head(5)"
   ]
  },
  {
   "cell_type": "markdown",
   "id": "54e34694",
   "metadata": {},
   "source": [
    "## Partitioning and Parquetize"
   ]
  },
  {
   "cell_type": "code",
   "execution_count": 54,
   "id": "24ab7777",
   "metadata": {},
   "outputs": [],
   "source": [
    "df = df.repartition(6) # Lazy Command"
   ]
  },
  {
   "cell_type": "code",
   "execution_count": 55,
   "id": "3d013343",
   "metadata": {},
   "outputs": [
    {
     "name": "stderr",
     "output_type": "stream",
     "text": [
      "                                                                                \r"
     ]
    }
   ],
   "source": [
    "df.write.parquet('fhv/2019/10')"
   ]
  },
  {
   "cell_type": "markdown",
   "id": "42580e25",
   "metadata": {},
   "source": [
    "## Querying"
   ]
  },
  {
   "cell_type": "code",
   "execution_count": 56,
   "id": "f4b549d7",
   "metadata": {},
   "outputs": [],
   "source": [
    "df = spark.read.parquet('fhv/2019/10')"
   ]
  },
  {
   "cell_type": "code",
   "execution_count": 57,
   "id": "9b23dca1",
   "metadata": {
    "scrolled": false
   },
   "outputs": [
    {
     "name": "stdout",
     "output_type": "stream",
     "text": [
      "root\n",
      " |-- dispatching_base_num: string (nullable = true)\n",
      " |-- pickup_datetime: timestamp (nullable = true)\n",
      " |-- dropoff_datetime: timestamp (nullable = true)\n",
      " |-- PUlocationID: integer (nullable = true)\n",
      " |-- DOlocationID: integer (nullable = true)\n",
      " |-- SR_Flag: string (nullable = true)\n",
      " |-- Affiliated_base_number: string (nullable = true)\n",
      "\n"
     ]
    }
   ],
   "source": [
    "df.printSchema()"
   ]
  },
  {
   "cell_type": "code",
   "execution_count": 69,
   "id": "0cadd9d0",
   "metadata": {},
   "outputs": [],
   "source": [
    "from pyspark.sql import functions as F"
   ]
  },
  {
   "cell_type": "code",
   "execution_count": 76,
   "id": "93cc9774",
   "metadata": {},
   "outputs": [],
   "source": [
    "test_df = df \\\n",
    "    .withColumn('pickup_date', F.to_date(df.pickup_datetime)) \\\n",
    "    .withColumn('dropoff_date', F.to_date(df.dropoff_datetime)) \\\n",
    "    .select('pickup_date', 'dropoff_date', 'PUlocationID', 'DOlocationID') \n"
   ]
  },
  {
   "cell_type": "code",
   "execution_count": 77,
   "id": "125a0ae5",
   "metadata": {},
   "outputs": [
    {
     "name": "stdout",
     "output_type": "stream",
     "text": [
      "+-----------+------------+------------+------------+\n",
      "|pickup_date|dropoff_date|PUlocationID|DOlocationID|\n",
      "+-----------+------------+------------+------------+\n",
      "| 2019-10-01|  2019-10-01|        NULL|        NULL|\n",
      "| 2019-10-04|  2019-10-04|         205|         121|\n",
      "| 2019-10-02|  2019-10-02|         264|         127|\n",
      "| 2019-10-04|  2019-10-04|         264|         119|\n",
      "| 2019-10-01|  2019-10-01|         264|         264|\n",
      "| 2019-10-04|  2019-10-04|         264|         186|\n",
      "| 2019-10-02|  2019-10-02|         264|          35|\n",
      "| 2019-10-03|  2019-10-03|         264|          69|\n",
      "| 2019-10-02|  2019-10-02|         264|         264|\n",
      "| 2019-10-02|  2019-10-02|         264|         174|\n",
      "| 2019-10-04|  2019-10-04|         264|         264|\n",
      "| 2019-10-03|  2019-10-03|         264|          39|\n",
      "| 2019-10-04|  2019-10-04|         264|         264|\n",
      "| 2019-10-02|  2019-10-02|         264|          63|\n",
      "| 2019-10-02|  2019-10-02|         264|         247|\n",
      "| 2019-10-02|  2019-10-02|         102|         216|\n",
      "| 2019-10-03|  2019-10-03|         264|         243|\n",
      "| 2019-10-01|  2019-10-01|         264|         216|\n",
      "| 2019-10-01|  2019-10-01|         264|         265|\n",
      "| 2019-10-03|  2019-10-03|         264|          74|\n",
      "+-----------+------------+------------+------------+\n",
      "only showing top 20 rows\n",
      "\n"
     ]
    }
   ],
   "source": [
    "test_df.show()"
   ]
  },
  {
   "cell_type": "code",
   "execution_count": 83,
   "id": "432840c9",
   "metadata": {},
   "outputs": [
    {
     "name": "stderr",
     "output_type": "stream",
     "text": [
      "                                                                                \r"
     ]
    },
    {
     "data": {
      "text/plain": [
       "62610"
      ]
     },
     "execution_count": 83,
     "metadata": {},
     "output_type": "execute_result"
    }
   ],
   "source": [
    "dates = ('2019-10-15', '2019-10-15')\n",
    "\n",
    "test_df.filter(test_df.pickup_date.between(*dates)).count()"
   ]
  },
  {
   "cell_type": "code",
   "execution_count": 98,
   "id": "9a2116ef",
   "metadata": {},
   "outputs": [],
   "source": [
    "test_df = df \\\n",
    "    .withColumn(\"time_difference\", df.dropoff_datetime.cast(\"long\") - df.pickup_datetime.cast(\"long\")) \\\n",
    "    .withColumn(\"time_difference_hours\", F.expr(\"time_difference / (1000 * 60 * 60)\")) \\\n",
    "    .select('time_difference', 'time_difference_hours', 'pickup_datetime', 'dropoff_datetime', 'PUlocationID', 'DOlocationID') "
   ]
  },
  {
   "cell_type": "code",
   "execution_count": 99,
   "id": "e2320d81",
   "metadata": {},
   "outputs": [
    {
     "name": "stdout",
     "output_type": "stream",
     "text": [
      "+---------------+---------------------+-------------------+-------------------+------------+------------+\n",
      "|time_difference|time_difference_hours|    pickup_datetime|   dropoff_datetime|PUlocationID|DOlocationID|\n",
      "+---------------+---------------------+-------------------+-------------------+------------+------------+\n",
      "|          10234| 0.002842777777777778|2019-10-01 09:29:00|2019-10-01 12:19:34|        NULL|        NULL|\n",
      "|            282| 7.833333333333333E-5|2019-10-04 10:45:00|2019-10-04 10:49:42|         205|         121|\n",
      "|           1120| 3.111111111111111E-4|2019-10-02 01:58:19|2019-10-02 02:16:59|         264|         127|\n",
      "|            930| 2.583333333333333...|2019-10-04 00:13:52|2019-10-04 00:29:22|         264|         119|\n",
      "|           1847| 5.130555555555556E-4|2019-10-01 20:41:56|2019-10-01 21:12:43|         264|         264|\n",
      "|           1384| 3.844444444444444...|2019-10-04 05:51:53|2019-10-04 06:14:57|         264|         186|\n",
      "|            390| 1.083333333333333...|2019-10-02 14:25:46|2019-10-02 14:32:16|         264|          35|\n",
      "|           1810| 5.027777777777778E-4|2019-10-03 10:09:00|2019-10-03 10:39:10|         264|          69|\n",
      "|           1140| 3.166666666666666...|2019-10-02 10:22:00|2019-10-02 10:41:00|         264|         264|\n",
      "|           1086| 3.016666666666666...|2019-10-02 11:09:03|2019-10-02 11:27:09|         264|         174|\n",
      "|            540|               1.5E-4|2019-10-04 06:00:00|2019-10-04 06:09:00|         264|         264|\n",
      "|            307| 8.527777777777777E-5|2019-10-03 08:13:01|2019-10-03 08:18:08|         264|          39|\n",
      "|           1058| 2.938888888888889E-4|2019-10-04 14:23:23|2019-10-04 14:41:01|         264|         264|\n",
      "|            186| 5.166666666666666...|2019-10-02 17:14:22|2019-10-02 17:17:28|         264|          63|\n",
      "|            852| 2.366666666666666...|2019-10-02 14:49:03|2019-10-02 15:03:15|         264|         247|\n",
      "|           1623| 4.508333333333333...|2019-10-02 16:46:21|2019-10-02 17:13:24|         102|         216|\n",
      "|            482| 1.338888888888888...|2019-10-03 00:00:57|2019-10-03 00:08:59|         264|         243|\n",
      "|           1578| 4.383333333333333E-4|2019-10-01 13:57:18|2019-10-01 14:23:36|         264|         216|\n",
      "|           1907| 5.297222222222222E-4|2019-10-01 13:54:48|2019-10-01 14:26:35|         264|         265|\n",
      "|            867| 2.408333333333333...|2019-10-03 07:19:00|2019-10-03 07:33:27|         264|          74|\n",
      "+---------------+---------------------+-------------------+-------------------+------------+------------+\n",
      "only showing top 20 rows\n",
      "\n"
     ]
    }
   ],
   "source": [
    "test_df.show()"
   ]
  },
  {
   "cell_type": "code",
   "execution_count": 100,
   "id": "6eb2f0ea",
   "metadata": {},
   "outputs": [
    {
     "name": "stdout",
     "output_type": "stream",
     "text": [
      "+--------------------------+\n",
      "|max(time_difference_hours)|\n",
      "+--------------------------+\n",
      "|                  631.1525|\n",
      "+--------------------------+\n",
      "\n"
     ]
    }
   ],
   "source": [
    "test_df.select(F.max(\"time_difference_hours\")) \\\n",
    "    .show()"
   ]
  },
  {
   "cell_type": "code",
   "execution_count": 101,
   "id": "58754650",
   "metadata": {},
   "outputs": [],
   "source": [
    "zones = spark.read \\\n",
    "    .option(\"header\", \"true\") \\\n",
    "    .csv(\"./taxi_zone_lookup.csv\")"
   ]
  },
  {
   "cell_type": "code",
   "execution_count": 102,
   "id": "c5e587fc",
   "metadata": {},
   "outputs": [
    {
     "name": "stdout",
     "output_type": "stream",
     "text": [
      "+----------+-------------+--------------------+------------+\n",
      "|LocationID|      Borough|                Zone|service_zone|\n",
      "+----------+-------------+--------------------+------------+\n",
      "|         1|          EWR|      Newark Airport|         EWR|\n",
      "|         2|       Queens|         Jamaica Bay|   Boro Zone|\n",
      "|         3|        Bronx|Allerton/Pelham G...|   Boro Zone|\n",
      "|         4|    Manhattan|       Alphabet City| Yellow Zone|\n",
      "|         5|Staten Island|       Arden Heights|   Boro Zone|\n",
      "|         6|Staten Island|Arrochar/Fort Wad...|   Boro Zone|\n",
      "|         7|       Queens|             Astoria|   Boro Zone|\n",
      "|         8|       Queens|        Astoria Park|   Boro Zone|\n",
      "|         9|       Queens|          Auburndale|   Boro Zone|\n",
      "|        10|       Queens|        Baisley Park|   Boro Zone|\n",
      "|        11|     Brooklyn|          Bath Beach|   Boro Zone|\n",
      "|        12|    Manhattan|        Battery Park| Yellow Zone|\n",
      "|        13|    Manhattan|   Battery Park City| Yellow Zone|\n",
      "|        14|     Brooklyn|           Bay Ridge|   Boro Zone|\n",
      "|        15|       Queens|Bay Terrace/Fort ...|   Boro Zone|\n",
      "|        16|       Queens|             Bayside|   Boro Zone|\n",
      "|        17|     Brooklyn|             Bedford|   Boro Zone|\n",
      "|        18|        Bronx|        Bedford Park|   Boro Zone|\n",
      "|        19|       Queens|           Bellerose|   Boro Zone|\n",
      "|        20|        Bronx|             Belmont|   Boro Zone|\n",
      "+----------+-------------+--------------------+------------+\n",
      "only showing top 20 rows\n",
      "\n"
     ]
    }
   ],
   "source": [
    "zones.show()"
   ]
  },
  {
   "cell_type": "code",
   "execution_count": 104,
   "id": "505a4f3e",
   "metadata": {},
   "outputs": [],
   "source": [
    "joined = df.join(zones, F.col('PUlocationID') == F.col('LocationID'), how='inner')"
   ]
  },
  {
   "cell_type": "code",
   "execution_count": 110,
   "id": "c31273f1",
   "metadata": {},
   "outputs": [],
   "source": [
    "zones_pickup_count = joined.groupby('Zone').agg(F.count(\"*\"))"
   ]
  },
  {
   "cell_type": "code",
   "execution_count": 116,
   "id": "2166e95e",
   "metadata": {},
   "outputs": [
    {
     "name": "stderr",
     "output_type": "stream",
     "text": [
      "                                                                                \r"
     ]
    }
   ],
   "source": [
    "min_pickup = zones_pickup_count.agg(F.min(\"count(1)\")).collect()[0][0]\n",
    "\n",
    "res = zones_pickup_count.filter(F.col(\"count(1)\") == min_pickup).first()"
   ]
  },
  {
   "cell_type": "code",
   "execution_count": 118,
   "id": "1cb0ef7b",
   "metadata": {},
   "outputs": [
    {
     "data": {
      "text/plain": [
       "Row(Zone='Jamaica Bay', count(1)=1)"
      ]
     },
     "execution_count": 118,
     "metadata": {},
     "output_type": "execute_result"
    }
   ],
   "source": [
    "res"
   ]
  },
  {
   "cell_type": "code",
   "execution_count": null,
   "id": "6dc132e6",
   "metadata": {},
   "outputs": [],
   "source": []
  }
 ],
 "metadata": {
  "kernelspec": {
   "display_name": "Python 3 (ipykernel)",
   "language": "python",
   "name": "python3"
  },
  "language_info": {
   "codemirror_mode": {
    "name": "ipython",
    "version": 3
   },
   "file_extension": ".py",
   "mimetype": "text/x-python",
   "name": "python",
   "nbconvert_exporter": "python",
   "pygments_lexer": "ipython3",
   "version": "3.10.9"
  }
 },
 "nbformat": 4,
 "nbformat_minor": 5
}
